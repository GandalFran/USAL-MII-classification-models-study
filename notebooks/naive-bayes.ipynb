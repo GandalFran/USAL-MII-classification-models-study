{
 "cells": [
  {
   "cell_type": "code",
   "execution_count": 1,
   "metadata": {},
   "outputs": [],
   "source": [
    "import numpy as np\n",
    "import pandas as pd\n",
    "import scipy.stats as stats\n",
    "import matplotlib.pyplot as plt\n",
    "import seaborn as sns\n",
    "from collections import Counter\n",
    "sns.set(style=\"whitegrid\")"
   ]
  },
  {
   "cell_type": "markdown",
   "metadata": {},
   "source": [
    "# Class definition"
   ]
  },
  {
   "cell_type": "code",
   "execution_count": 2,
   "metadata": {},
   "outputs": [],
   "source": [
    "class NaiveBayesClassifier():\n",
    "    '''\n",
    "    Bayes Theorem form\n",
    "    P(y|X) = P(X|y) * P(y) / P(X)\n",
    "    '''\n",
    "    def calc_prior(self, features, target):\n",
    "        '''\n",
    "        prior probability P(y)\n",
    "        calculate prior probabilities\n",
    "        '''\n",
    "        self.prior = (features.groupby(target).apply(lambda x: len(x)) / self.rows).to_numpy()\n",
    "\n",
    "        return self.prior\n",
    "    \n",
    "    def calc_statistics(self, features, target):\n",
    "        '''\n",
    "        calculate mean, variance for each column and convert to numpy array\n",
    "        ''' \n",
    "        self.mean = features.groupby(target).apply(np.mean).to_numpy()\n",
    "        self.var = features.groupby(target).apply(np.var).to_numpy()\n",
    "              \n",
    "        return self.mean, self.var\n",
    "    \n",
    "    def gaussian_density(self, class_idx, x):     \n",
    "        '''\n",
    "        calculate probability from gaussian density function (normally distributed)\n",
    "        we will assume that probability of specific target value given specific class is normally distributed \n",
    "        \n",
    "        probability density function derived from wikipedia:\n",
    "        (1/√2pi*σ) * exp((-1/2)*((x-μ)^2)/(2*σ²)), where μ is mean, σ² is variance, σ is quare root of variance (standard deviation)\n",
    "        '''\n",
    "        mean = self.mean[class_idx]\n",
    "        var = self.var[class_idx]\n",
    "        numerator = np.exp((-1/2)*((x-mean)**2) / (2 * var))\n",
    "#         numerator = np.exp(-((x-mean)**2 / (2 * var)))\n",
    "        denominator = np.sqrt(2 * np.pi * var)\n",
    "        prob = numerator / denominator\n",
    "        return prob\n",
    "    \n",
    "    def calc_posterior(self, x):\n",
    "        posteriors = []\n",
    "\n",
    "        # calculate posterior probability for each class\n",
    "        for i in range(self.count):\n",
    "            prior = np.log(self.prior[i]) ## use the log to make it more numerically stable\n",
    "            conditional = np.sum(np.log(self.gaussian_density(i, x))) # use the log to make it more numerically stable\n",
    "            posterior = prior + conditional\n",
    "            posteriors.append(posterior)\n",
    "        # return class with highest posterior probability\n",
    "        return self.classes[np.argmax(posteriors)]\n",
    "     \n",
    "\n",
    "    def fit(self, features, target):\n",
    "        self.classes = np.unique(target)\n",
    "        self.count = len(self.classes)\n",
    "        self.feature_nums = features.shape[1]\n",
    "        self.rows = features.shape[0]\n",
    "        \n",
    "        self.calc_statistics(features, target)\n",
    "        self.calc_prior(features, target)\n",
    "        \n",
    "    def predict(self, features):\n",
    "        preds = [self.calc_posterior(f) for f in features.to_numpy()]\n",
    "        return preds\n",
    "\n",
    "    def accuracy(self, y_test, y_pred):\n",
    "        accuracy = np.sum(y_test == y_pred) / len(y_test)\n",
    "        return accuracy\n",
    "\n",
    "    def visualize(self, y_true, y_pred, target):\n",
    "        \n",
    "        tr = pd.DataFrame(data=y_true, columns=[target])\n",
    "        pr = pd.DataFrame(data=y_pred, columns=[target])\n",
    "        \n",
    "        \n",
    "        fig, ax = plt.subplots(1, 2, sharex='col', sharey='row', figsize=(15,6))\n",
    "        \n",
    "        sns.countplot(x=target, data=tr, ax=ax[0], palette='viridis', alpha=0.7, hue=target, dodge=False)\n",
    "        sns.countplot(x=target, data=pr, ax=ax[1], palette='viridis', alpha=0.7, hue=target, dodge=False)\n",
    "        \n",
    "\n",
    "        fig.suptitle('True vs Predicted Comparison', fontsize=20)\n",
    "\n",
    "        ax[0].tick_params(labelsize=12)\n",
    "        ax[1].tick_params(labelsize=12)\n",
    "        ax[0].set_title(\"True values\", fontsize=18)\n",
    "        ax[1].set_title(\"Predicted values\", fontsize=18)\n",
    "        plt.show()"
   ]
  },
  {
   "cell_type": "markdown",
   "metadata": {},
   "source": [
    "# Read an clean dataset"
   ]
  },
  {
   "cell_type": "code",
   "execution_count": 3,
   "metadata": {},
   "outputs": [],
   "source": [
    "# read\n",
    "df = pd.read_csv(\"spotify-dataset.csv\")\n",
    "\n",
    "# shuffle dataset with sample\n",
    "df = df.sample(frac=1, random_state=1).reset_index(drop=True)\n",
    "\n",
    "# lower the attribute\n",
    "df['Top Genre'] = (df[\"Top Genre\"].str.strip()).str.lower()\n",
    "\n",
    "# drop genres that have less than 20 instances\n",
    "to_remove = [genre for genre in df['Top Genre'].unique() if df['Top Genre'].value_counts()[genre] < 20] \n",
    "for r in to_remove:\n",
    "    df = df[df['Top Genre'] != r]\n",
    "\n",
    "# convert negative values to positive, because the percenption of sound is relative (-N dB == N dB in human ear)\n",
    "df['Loudness (dB)'] = df['Loudness (dB)'].abs()\n",
    "\n",
    "# convert duration to int\n",
    "df['Length (Duration)'] = pd.to_numeric(df['Length (Duration)'].str.replace(',',''))\n",
    "\n",
    "# drop not used columns\n",
    "df.drop(['Title', 'Artist', 'Year', 'Index'], axis=1, inplace=True)\n",
    "\n",
    "# encode genres\n",
    "# genres = list(df['Top Genre'].unique())\n",
    "# df['Top Genre'] = df['Top Genre'].apply(lambda x: genres.index(x))"
   ]
  },
  {
   "cell_type": "code",
   "execution_count": 4,
   "metadata": {},
   "outputs": [
    {
     "data": {
      "text/html": [
       "<div>\n",
       "<style scoped>\n",
       "    .dataframe tbody tr th:only-of-type {\n",
       "        vertical-align: middle;\n",
       "    }\n",
       "\n",
       "    .dataframe tbody tr th {\n",
       "        vertical-align: top;\n",
       "    }\n",
       "\n",
       "    .dataframe thead th {\n",
       "        text-align: right;\n",
       "    }\n",
       "</style>\n",
       "<table border=\"1\" class=\"dataframe\">\n",
       "  <thead>\n",
       "    <tr style=\"text-align: right;\">\n",
       "      <th></th>\n",
       "      <th>Top Genre</th>\n",
       "      <th>Beats Per Minute (BPM)</th>\n",
       "      <th>Energy</th>\n",
       "      <th>Danceability</th>\n",
       "      <th>Loudness (dB)</th>\n",
       "      <th>Liveness</th>\n",
       "      <th>Valence</th>\n",
       "      <th>Length (Duration)</th>\n",
       "      <th>Acousticness</th>\n",
       "      <th>Speechiness</th>\n",
       "      <th>Popularity</th>\n",
       "    </tr>\n",
       "  </thead>\n",
       "  <tbody>\n",
       "    <tr>\n",
       "      <th>0</th>\n",
       "      <td>adult standards</td>\n",
       "      <td>76</td>\n",
       "      <td>40</td>\n",
       "      <td>34</td>\n",
       "      <td>9</td>\n",
       "      <td>11</td>\n",
       "      <td>7</td>\n",
       "      <td>291</td>\n",
       "      <td>76</td>\n",
       "      <td>4</td>\n",
       "      <td>47</td>\n",
       "    </tr>\n",
       "    <tr>\n",
       "      <th>1</th>\n",
       "      <td>british soul</td>\n",
       "      <td>104</td>\n",
       "      <td>82</td>\n",
       "      <td>72</td>\n",
       "      <td>7</td>\n",
       "      <td>24</td>\n",
       "      <td>82</td>\n",
       "      <td>249</td>\n",
       "      <td>15</td>\n",
       "      <td>3</td>\n",
       "      <td>49</td>\n",
       "    </tr>\n",
       "    <tr>\n",
       "      <th>2</th>\n",
       "      <td>irish rock</td>\n",
       "      <td>96</td>\n",
       "      <td>60</td>\n",
       "      <td>53</td>\n",
       "      <td>6</td>\n",
       "      <td>11</td>\n",
       "      <td>35</td>\n",
       "      <td>305</td>\n",
       "      <td>0</td>\n",
       "      <td>2</td>\n",
       "      <td>57</td>\n",
       "    </tr>\n",
       "    <tr>\n",
       "      <th>4</th>\n",
       "      <td>album rock</td>\n",
       "      <td>60</td>\n",
       "      <td>22</td>\n",
       "      <td>23</td>\n",
       "      <td>13</td>\n",
       "      <td>27</td>\n",
       "      <td>18</td>\n",
       "      <td>214</td>\n",
       "      <td>95</td>\n",
       "      <td>3</td>\n",
       "      <td>66</td>\n",
       "    </tr>\n",
       "    <tr>\n",
       "      <th>5</th>\n",
       "      <td>alternative rock</td>\n",
       "      <td>96</td>\n",
       "      <td>80</td>\n",
       "      <td>22</td>\n",
       "      <td>6</td>\n",
       "      <td>9</td>\n",
       "      <td>26</td>\n",
       "      <td>291</td>\n",
       "      <td>0</td>\n",
       "      <td>4</td>\n",
       "      <td>37</td>\n",
       "    </tr>\n",
       "    <tr>\n",
       "      <th>...</th>\n",
       "      <td>...</td>\n",
       "      <td>...</td>\n",
       "      <td>...</td>\n",
       "      <td>...</td>\n",
       "      <td>...</td>\n",
       "      <td>...</td>\n",
       "      <td>...</td>\n",
       "      <td>...</td>\n",
       "      <td>...</td>\n",
       "      <td>...</td>\n",
       "      <td>...</td>\n",
       "    </tr>\n",
       "    <tr>\n",
       "      <th>1989</th>\n",
       "      <td>dance rock</td>\n",
       "      <td>116</td>\n",
       "      <td>19</td>\n",
       "      <td>56</td>\n",
       "      <td>13</td>\n",
       "      <td>11</td>\n",
       "      <td>12</td>\n",
       "      <td>321</td>\n",
       "      <td>73</td>\n",
       "      <td>3</td>\n",
       "      <td>53</td>\n",
       "    </tr>\n",
       "    <tr>\n",
       "      <th>1990</th>\n",
       "      <td>album rock</td>\n",
       "      <td>77</td>\n",
       "      <td>57</td>\n",
       "      <td>54</td>\n",
       "      <td>8</td>\n",
       "      <td>9</td>\n",
       "      <td>73</td>\n",
       "      <td>290</td>\n",
       "      <td>1</td>\n",
       "      <td>16</td>\n",
       "      <td>66</td>\n",
       "    </tr>\n",
       "    <tr>\n",
       "      <th>1991</th>\n",
       "      <td>classic uk pop</td>\n",
       "      <td>167</td>\n",
       "      <td>52</td>\n",
       "      <td>18</td>\n",
       "      <td>8</td>\n",
       "      <td>6</td>\n",
       "      <td>42</td>\n",
       "      <td>222</td>\n",
       "      <td>39</td>\n",
       "      <td>3</td>\n",
       "      <td>48</td>\n",
       "    </tr>\n",
       "    <tr>\n",
       "      <th>1992</th>\n",
       "      <td>pop</td>\n",
       "      <td>180</td>\n",
       "      <td>66</td>\n",
       "      <td>51</td>\n",
       "      <td>7</td>\n",
       "      <td>12</td>\n",
       "      <td>46</td>\n",
       "      <td>228</td>\n",
       "      <td>3</td>\n",
       "      <td>4</td>\n",
       "      <td>79</td>\n",
       "    </tr>\n",
       "    <tr>\n",
       "      <th>1993</th>\n",
       "      <td>glam rock</td>\n",
       "      <td>175</td>\n",
       "      <td>66</td>\n",
       "      <td>39</td>\n",
       "      <td>6</td>\n",
       "      <td>6</td>\n",
       "      <td>46</td>\n",
       "      <td>274</td>\n",
       "      <td>28</td>\n",
       "      <td>3</td>\n",
       "      <td>50</td>\n",
       "    </tr>\n",
       "  </tbody>\n",
       "</table>\n",
       "<p>1465 rows × 11 columns</p>\n",
       "</div>"
      ],
      "text/plain": [
       "             Top Genre  Beats Per Minute (BPM)  Energy  Danceability  \\\n",
       "0      adult standards                      76      40            34   \n",
       "1         british soul                     104      82            72   \n",
       "2           irish rock                      96      60            53   \n",
       "4           album rock                      60      22            23   \n",
       "5     alternative rock                      96      80            22   \n",
       "...                ...                     ...     ...           ...   \n",
       "1989        dance rock                     116      19            56   \n",
       "1990        album rock                      77      57            54   \n",
       "1991    classic uk pop                     167      52            18   \n",
       "1992               pop                     180      66            51   \n",
       "1993         glam rock                     175      66            39   \n",
       "\n",
       "      Loudness (dB)  Liveness  Valence  Length (Duration)  Acousticness  \\\n",
       "0                 9        11        7                291            76   \n",
       "1                 7        24       82                249            15   \n",
       "2                 6        11       35                305             0   \n",
       "4                13        27       18                214            95   \n",
       "5                 6         9       26                291             0   \n",
       "...             ...       ...      ...                ...           ...   \n",
       "1989             13        11       12                321            73   \n",
       "1990              8         9       73                290             1   \n",
       "1991              8         6       42                222            39   \n",
       "1992              7        12       46                228             3   \n",
       "1993              6         6       46                274            28   \n",
       "\n",
       "      Speechiness  Popularity  \n",
       "0               4          47  \n",
       "1               3          49  \n",
       "2               2          57  \n",
       "4               3          66  \n",
       "5               4          37  \n",
       "...           ...         ...  \n",
       "1989            3          53  \n",
       "1990           16          66  \n",
       "1991            3          48  \n",
       "1992            4          79  \n",
       "1993            3          50  \n",
       "\n",
       "[1465 rows x 11 columns]"
      ]
     },
     "execution_count": 4,
     "metadata": {},
     "output_type": "execute_result"
    }
   ],
   "source": [
    "df"
   ]
  },
  {
   "cell_type": "markdown",
   "metadata": {},
   "source": [
    "# Perform analysis"
   ]
  },
  {
   "cell_type": "markdown",
   "metadata": {},
   "source": [
    "The analisis performed, conssits in a classification with naive bayes, that ...."
   ]
  },
  {
   "cell_type": "markdown",
   "metadata": {},
   "source": [
    "### Prepare data"
   ]
  },
  {
   "cell_type": "code",
   "execution_count": 5,
   "metadata": {},
   "outputs": [],
   "source": [
    "# set features and target\n",
    "X, y = df.drop('Top Genre', axis=1), df.iloc[:, 0]\n",
    "\n",
    "# split on train and test 0.7/0.3\n",
    "X_train, X_test, y_train, y_test = X[:1000], X[1000:], y[:1000], y[1000:]"
   ]
  },
  {
   "cell_type": "markdown",
   "metadata": {},
   "source": [
    "### Train model"
   ]
  },
  {
   "cell_type": "code",
   "execution_count": 6,
   "metadata": {},
   "outputs": [],
   "source": [
    "# train the model\n",
    "model = NaiveBayesClassifier()\n",
    "model.fit(X_train, y_train)"
   ]
  },
  {
   "cell_type": "markdown",
   "metadata": {},
   "source": [
    "### Perform validation predictions"
   ]
  },
  {
   "cell_type": "code",
   "execution_count": 7,
   "metadata": {},
   "outputs": [],
   "source": [
    "predictions = model.predict(X_test)"
   ]
  },
  {
   "cell_type": "markdown",
   "metadata": {},
   "source": [
    "### Calculate accuracy and score values"
   ]
  },
  {
   "cell_type": "code",
   "execution_count": 8,
   "metadata": {},
   "outputs": [
    {
     "data": {
      "text/plain": [
       "0.2"
      ]
     },
     "execution_count": 8,
     "metadata": {},
     "output_type": "execute_result"
    }
   ],
   "source": [
    "# It has low accuracy because there are categories or genres missing in the predictions\n",
    "model.accuracy(y_test, predictions)"
   ]
  },
  {
   "cell_type": "markdown",
   "metadata": {},
   "source": [
    "### Set statistics"
   ]
  },
  {
   "cell_type": "code",
   "execution_count": 9,
   "metadata": {},
   "outputs": [
    {
     "data": {
      "text/plain": [
       "album rock           0.294624\n",
       "adult standards      0.081720\n",
       "dutch pop            0.068817\n",
       "alternative metal    0.047312\n",
       "alternative rock     0.045161\n",
       "permanent wave       0.040860\n",
       "dance rock           0.040860\n",
       "dutch indie          0.038710\n",
       "modern rock          0.038710\n",
       "classic rock         0.036559\n",
       "pop                  0.036559\n",
       "glam rock            0.036559\n",
       "art rock             0.036559\n",
       "dance pop            0.034409\n",
       "dutch cabaret        0.023656\n",
       "irish rock           0.023656\n",
       "classic uk pop       0.021505\n",
       "british invasion     0.021505\n",
       "europop              0.017204\n",
       "british soul         0.015054\n",
       "Name: Top Genre, dtype: float64"
      ]
     },
     "execution_count": 9,
     "metadata": {},
     "output_type": "execute_result"
    }
   ],
   "source": [
    "# Count percentage of probability of each ocurrence in each category or genre\n",
    "y_test.value_counts(normalize=True)"
   ]
  },
  {
   "cell_type": "code",
   "execution_count": 14,
   "metadata": {},
   "outputs": [
    {
     "data": {
      "text/plain": [
       "{'classic uk pop': 0.1,\n",
       " 'adult standards': 0.11,\n",
       " 'dutch indie': 0.1,\n",
       " 'europop': 0.14,\n",
       " 'irish rock': 0.05,\n",
       " 'alternative rock': 0.06,\n",
       " 'modern rock': 0.11,\n",
       " 'permanent wave': 0.09,\n",
       " 'album rock': 0.09,\n",
       " 'alternative metal': 0.02,\n",
       " 'british invasion': 0.03,\n",
       " 'dance rock': 0.0,\n",
       " 'british soul': 0.03,\n",
       " 'dutch pop': 0.02,\n",
       " 'dance pop': 0.03,\n",
       " 'art rock': 0.0,\n",
       " 'dutch cabaret': 0.0}"
      ]
     },
     "execution_count": 14,
     "metadata": {},
     "output_type": "execute_result"
    }
   ],
   "source": [
    "# Count predictions made\n",
    "# c = Counter(predictions)\n",
    "# c.most_common()\n",
    "{n: round(float(predictions.count(n))/float(len(predictions)), 2) for n in predictions}"
   ]
  },
  {
   "cell_type": "code",
   "execution_count": 11,
   "metadata": {},
   "outputs": [
    {
     "data": {
      "image/png": "[encoded data removed]",
      "text/plain": [
       "<Figure size 1080x432 with 2 Axes>"
      ]
     },
     "metadata": {},
     "output_type": "display_data"
    }
   ],
   "source": [
    "# Visualize predictions\n",
    "model.visualize(y_test, predictions, 'Top Genre')"
   ]
  }
 ],
 "metadata": {
  "kernelspec": {
   "display_name": "Python 3",
   "language": "python",
   "name": "python3"
  },
  "language_info": {
   "codemirror_mode": {
    "name": "ipython",
    "version": 3
   },
   "file_extension": ".py",
   "mimetype": "text/x-python",
   "name": "python",
   "nbconvert_exporter": "python",
   "pygments_lexer": "ipython3",
   "version": "3.6.10"
  }
 },
 "nbformat": 4,
 "nbformat_minor": 4
}
