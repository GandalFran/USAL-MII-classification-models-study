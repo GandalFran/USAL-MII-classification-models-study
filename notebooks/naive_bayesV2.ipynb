{
 "cells": [
  {
   "cell_type": "code",
   "execution_count": 1,
   "metadata": {},
   "outputs": [],
   "source": [
    "import numpy as np\n",
    "import pandas as pd\n",
    "import scipy.stats as stats\n",
    "import matplotlib.pyplot as plt\n",
    "import seaborn as sns\n",
    "sns.set(style=\"whitegrid\")"
   ]
  },
  {
   "cell_type": "code",
   "execution_count": 2,
   "metadata": {},
   "outputs": [],
   "source": [
    "class NaiveBayesClassifier():\n",
    "    '''\n",
    "    Bayes Theorem form\n",
    "    P(y|X) = P(X|y) * P(y) / P(X)\n",
    "    '''\n",
    "    def calc_prior(self, features, target):\n",
    "        '''\n",
    "        prior probability P(y)\n",
    "        calculate prior probabilities\n",
    "        '''\n",
    "        self.prior = (features.groupby(target).apply(lambda x: len(x)) / self.rows).to_numpy()\n",
    "\n",
    "        return self.prior\n",
    "    \n",
    "    def calc_statistics(self, features, target):\n",
    "        '''\n",
    "        calculate mean, variance for each column and convert to numpy array\n",
    "        ''' \n",
    "        self.mean = features.groupby(target).apply(np.mean).to_numpy()\n",
    "        self.var = features.groupby(target).apply(np.var).to_numpy()\n",
    "              \n",
    "        return self.mean, self.var\n",
    "    \n",
    "    def gaussian_density(self, class_idx, x):     \n",
    "        '''\n",
    "        calculate probability from gaussian density function (normally distributed)\n",
    "        we will assume that probability of specific target value given specific class is normally distributed \n",
    "        \n",
    "        probability density function derived from wikipedia:\n",
    "        (1/√2pi*σ) * exp((-1/2)*((x-μ)^2)/(2*σ²)), where μ is mean, σ² is variance, σ is quare root of variance (standard deviation)\n",
    "        '''\n",
    "        mean = self.mean[class_idx]\n",
    "        var = self.var[class_idx]\n",
    "        numerator = np.exp((-1/2)*((x-mean)**2) / (2 * var))\n",
    "#         numerator = np.exp(-((x-mean)**2 / (2 * var)))\n",
    "        denominator = np.sqrt(2 * np.pi * var)\n",
    "        prob = numerator / denominator\n",
    "        return prob\n",
    "    \n",
    "    def calc_posterior(self, x):\n",
    "        posteriors = []\n",
    "\n",
    "        # calculate posterior probability for each class\n",
    "        for i in range(self.count):\n",
    "            prior = np.log(self.prior[i]) ## use the log to make it more numerically stable\n",
    "            conditional = np.sum(np.log(self.gaussian_density(i, x))) # use the log to make it more numerically stable\n",
    "            posterior = prior + conditional\n",
    "            posteriors.append(posterior)\n",
    "        # return class with highest posterior probability\n",
    "        return self.classes[np.argmax(posteriors)]\n",
    "     \n",
    "\n",
    "    def fit(self, features, target):\n",
    "        self.classes = np.unique(target)\n",
    "        self.count = len(self.classes)\n",
    "        self.feature_nums = features.shape[1]\n",
    "        self.rows = features.shape[0]\n",
    "        \n",
    "        self.calc_statistics(features, target)\n",
    "        self.calc_prior(features, target)\n",
    "        \n",
    "    def predict(self, features):\n",
    "        preds = [self.calc_posterior(f) for f in features.to_numpy()]\n",
    "        return preds\n",
    "\n",
    "    def accuracy(self, y_test, y_pred):\n",
    "        accuracy = np.sum(y_test == y_pred) / len(y_test)\n",
    "        return accuracy\n",
    "\n",
    "    def visualize(self, y_true, y_pred, target):\n",
    "        \n",
    "        tr = pd.DataFrame(data=y_true, columns=[target])\n",
    "        pr = pd.DataFrame(data=y_pred, columns=[target])\n",
    "        \n",
    "        \n",
    "        fig, ax = plt.subplots(1, 2, sharex='col', sharey='row', figsize=(15,6))\n",
    "        \n",
    "        sns.countplot(x=target, data=tr, ax=ax[0], palette='viridis', alpha=0.7, hue=target, dodge=False)\n",
    "        sns.countplot(x=target, data=pr, ax=ax[1], palette='viridis', alpha=0.7, hue=target, dodge=False)\n",
    "        \n",
    "\n",
    "        fig.suptitle('True vs Predicted Comparison', fontsize=20)\n",
    "\n",
    "        ax[0].tick_params(labelsize=12)\n",
    "        ax[1].tick_params(labelsize=12)\n",
    "        ax[0].set_title(\"True values\", fontsize=18)\n",
    "        ax[1].set_title(\"Predicted values\", fontsize=18)\n",
    "        plt.show()\n"
   ]
  },
  {
   "cell_type": "code",
   "execution_count": 3,
   "metadata": {},
   "outputs": [
    {
     "name": "stdout",
     "output_type": "stream",
     "text": [
      "(1994, 15)\n"
     ]
    }
   ],
   "source": [
    "\n",
    "# pre-process dataset for training \n",
    "\n",
    "# upload Iris dataset -  shape is (150, 5)\n",
    "df = pd.read_csv(\"spotify-dataset.csv\")\n",
    "# df = pd.read_csv(\"iris.csv\")\n",
    "# shuffle dataset with sample\n",
    "df = df.sample(frac=1, random_state=1).reset_index(drop=True)\n",
    "# df shape\n",
    "print(df.shape)"
   ]
  },
  {
   "cell_type": "code",
   "execution_count": 4,
   "metadata": {},
   "outputs": [],
   "source": [
    "df.drop(['Title', 'Artist', 'Year', 'Index'], axis=1, inplace=True)"
   ]
  },
  {
   "cell_type": "code",
   "execution_count": 5,
   "metadata": {},
   "outputs": [
    {
     "data": {
      "text/html": [
       "<div>\n",
       "<style scoped>\n",
       "    .dataframe tbody tr th:only-of-type {\n",
       "        vertical-align: middle;\n",
       "    }\n",
       "\n",
       "    .dataframe tbody tr th {\n",
       "        vertical-align: top;\n",
       "    }\n",
       "\n",
       "    .dataframe thead th {\n",
       "        text-align: right;\n",
       "    }\n",
       "</style>\n",
       "<table border=\"1\" class=\"dataframe\">\n",
       "  <thead>\n",
       "    <tr style=\"text-align: right;\">\n",
       "      <th></th>\n",
       "      <th>Top Genre</th>\n",
       "      <th>Beats Per Minute (BPM)</th>\n",
       "      <th>Energy</th>\n",
       "      <th>Danceability</th>\n",
       "      <th>Loudness (dB)</th>\n",
       "      <th>Liveness</th>\n",
       "      <th>Valence</th>\n",
       "      <th>Length (Duration)</th>\n",
       "      <th>Acousticness</th>\n",
       "      <th>Speechiness</th>\n",
       "      <th>Popularity</th>\n",
       "    </tr>\n",
       "  </thead>\n",
       "  <tbody>\n",
       "    <tr>\n",
       "      <th>0</th>\n",
       "      <td>adult standards</td>\n",
       "      <td>76</td>\n",
       "      <td>40</td>\n",
       "      <td>34</td>\n",
       "      <td>-9</td>\n",
       "      <td>11</td>\n",
       "      <td>7</td>\n",
       "      <td>291</td>\n",
       "      <td>76</td>\n",
       "      <td>4</td>\n",
       "      <td>47</td>\n",
       "    </tr>\n",
       "    <tr>\n",
       "      <th>1</th>\n",
       "      <td>british soul</td>\n",
       "      <td>104</td>\n",
       "      <td>82</td>\n",
       "      <td>72</td>\n",
       "      <td>-7</td>\n",
       "      <td>24</td>\n",
       "      <td>82</td>\n",
       "      <td>249</td>\n",
       "      <td>15</td>\n",
       "      <td>3</td>\n",
       "      <td>49</td>\n",
       "    </tr>\n",
       "    <tr>\n",
       "      <th>2</th>\n",
       "      <td>irish rock</td>\n",
       "      <td>96</td>\n",
       "      <td>60</td>\n",
       "      <td>53</td>\n",
       "      <td>-6</td>\n",
       "      <td>11</td>\n",
       "      <td>35</td>\n",
       "      <td>305</td>\n",
       "      <td>0</td>\n",
       "      <td>2</td>\n",
       "      <td>57</td>\n",
       "    </tr>\n",
       "    <tr>\n",
       "      <th>3</th>\n",
       "      <td>australian rock</td>\n",
       "      <td>119</td>\n",
       "      <td>50</td>\n",
       "      <td>75</td>\n",
       "      <td>-9</td>\n",
       "      <td>9</td>\n",
       "      <td>34</td>\n",
       "      <td>258</td>\n",
       "      <td>1</td>\n",
       "      <td>4</td>\n",
       "      <td>63</td>\n",
       "    </tr>\n",
       "    <tr>\n",
       "      <th>4</th>\n",
       "      <td>album rock</td>\n",
       "      <td>60</td>\n",
       "      <td>22</td>\n",
       "      <td>23</td>\n",
       "      <td>-13</td>\n",
       "      <td>27</td>\n",
       "      <td>18</td>\n",
       "      <td>214</td>\n",
       "      <td>95</td>\n",
       "      <td>3</td>\n",
       "      <td>66</td>\n",
       "    </tr>\n",
       "    <tr>\n",
       "      <th>...</th>\n",
       "      <td>...</td>\n",
       "      <td>...</td>\n",
       "      <td>...</td>\n",
       "      <td>...</td>\n",
       "      <td>...</td>\n",
       "      <td>...</td>\n",
       "      <td>...</td>\n",
       "      <td>...</td>\n",
       "      <td>...</td>\n",
       "      <td>...</td>\n",
       "      <td>...</td>\n",
       "    </tr>\n",
       "    <tr>\n",
       "      <th>1989</th>\n",
       "      <td>dance rock</td>\n",
       "      <td>116</td>\n",
       "      <td>19</td>\n",
       "      <td>56</td>\n",
       "      <td>-13</td>\n",
       "      <td>11</td>\n",
       "      <td>12</td>\n",
       "      <td>321</td>\n",
       "      <td>73</td>\n",
       "      <td>3</td>\n",
       "      <td>53</td>\n",
       "    </tr>\n",
       "    <tr>\n",
       "      <th>1990</th>\n",
       "      <td>album rock</td>\n",
       "      <td>77</td>\n",
       "      <td>57</td>\n",
       "      <td>54</td>\n",
       "      <td>-8</td>\n",
       "      <td>9</td>\n",
       "      <td>73</td>\n",
       "      <td>290</td>\n",
       "      <td>1</td>\n",
       "      <td>16</td>\n",
       "      <td>66</td>\n",
       "    </tr>\n",
       "    <tr>\n",
       "      <th>1991</th>\n",
       "      <td>classic uk pop</td>\n",
       "      <td>167</td>\n",
       "      <td>52</td>\n",
       "      <td>18</td>\n",
       "      <td>-8</td>\n",
       "      <td>6</td>\n",
       "      <td>42</td>\n",
       "      <td>222</td>\n",
       "      <td>39</td>\n",
       "      <td>3</td>\n",
       "      <td>48</td>\n",
       "    </tr>\n",
       "    <tr>\n",
       "      <th>1992</th>\n",
       "      <td>pop</td>\n",
       "      <td>180</td>\n",
       "      <td>66</td>\n",
       "      <td>51</td>\n",
       "      <td>-7</td>\n",
       "      <td>12</td>\n",
       "      <td>46</td>\n",
       "      <td>228</td>\n",
       "      <td>3</td>\n",
       "      <td>4</td>\n",
       "      <td>79</td>\n",
       "    </tr>\n",
       "    <tr>\n",
       "      <th>1993</th>\n",
       "      <td>glam rock</td>\n",
       "      <td>175</td>\n",
       "      <td>66</td>\n",
       "      <td>39</td>\n",
       "      <td>-6</td>\n",
       "      <td>6</td>\n",
       "      <td>46</td>\n",
       "      <td>274</td>\n",
       "      <td>28</td>\n",
       "      <td>3</td>\n",
       "      <td>50</td>\n",
       "    </tr>\n",
       "  </tbody>\n",
       "</table>\n",
       "<p>1994 rows × 11 columns</p>\n",
       "</div>"
      ],
      "text/plain": [
       "            Top Genre  Beats Per Minute (BPM)  Energy  Danceability  \\\n",
       "0     adult standards                      76      40            34   \n",
       "1        british soul                     104      82            72   \n",
       "2          irish rock                      96      60            53   \n",
       "3     australian rock                     119      50            75   \n",
       "4          album rock                      60      22            23   \n",
       "...               ...                     ...     ...           ...   \n",
       "1989       dance rock                     116      19            56   \n",
       "1990       album rock                      77      57            54   \n",
       "1991   classic uk pop                     167      52            18   \n",
       "1992              pop                     180      66            51   \n",
       "1993        glam rock                     175      66            39   \n",
       "\n",
       "      Loudness (dB)  Liveness  Valence Length (Duration)  Acousticness  \\\n",
       "0                -9        11        7               291            76   \n",
       "1                -7        24       82               249            15   \n",
       "2                -6        11       35               305             0   \n",
       "3                -9         9       34               258             1   \n",
       "4               -13        27       18               214            95   \n",
       "...             ...       ...      ...               ...           ...   \n",
       "1989            -13        11       12               321            73   \n",
       "1990             -8         9       73               290             1   \n",
       "1991             -8         6       42               222            39   \n",
       "1992             -7        12       46               228             3   \n",
       "1993             -6         6       46               274            28   \n",
       "\n",
       "      Speechiness  Popularity  \n",
       "0               4          47  \n",
       "1               3          49  \n",
       "2               2          57  \n",
       "3               4          63  \n",
       "4               3          66  \n",
       "...           ...         ...  \n",
       "1989            3          53  \n",
       "1990           16          66  \n",
       "1991            3          48  \n",
       "1992            4          79  \n",
       "1993            3          50  \n",
       "\n",
       "[1994 rows x 11 columns]"
      ]
     },
     "execution_count": 5,
     "metadata": {},
     "output_type": "execute_result"
    }
   ],
   "source": [
    "df"
   ]
  },
  {
   "cell_type": "code",
   "execution_count": 6,
   "metadata": {},
   "outputs": [],
   "source": [
    "# lower the attribute\n",
    "df['Top Genre'] = (df[\"Top Genre\"].str.strip()).str.lower()\n",
    "\n",
    "# drop genres that have less than 20 instances\n",
    "to_remove = [genre for genre in df['Top Genre'].unique() if df['Top Genre'].value_counts()[genre] < 20] \n",
    "for r in to_remove:\n",
    "    df = df[df['Top Genre'] != r]"
   ]
  },
  {
   "cell_type": "code",
   "execution_count": 7,
   "metadata": {},
   "outputs": [],
   "source": [
    "# convert negative values to positive, because the percenption of sound is relative (-N dB == N dB in human ear)\n",
    "df['Loudness (dB)'] = df['Loudness (dB)'].abs()"
   ]
  },
  {
   "cell_type": "code",
   "execution_count": 8,
   "metadata": {},
   "outputs": [],
   "source": [
    "df['Length (Duration)'] = pd.to_numeric(df['Length (Duration)'].str.replace(',',''))"
   ]
  },
  {
   "cell_type": "code",
   "execution_count": 9,
   "metadata": {},
   "outputs": [
    {
     "name": "stdout",
     "output_type": "stream",
     "text": [
      "      Beats Per Minute (BPM)  Energy  Danceability  Loudness (dB)  Liveness  \\\n",
      "0                         76      40            34              9        11   \n",
      "1                        104      82            72              7        24   \n",
      "2                         96      60            53              6        11   \n",
      "4                         60      22            23             13        27   \n",
      "5                         96      80            22              6         9   \n",
      "...                      ...     ...           ...            ...       ...   \n",
      "1989                     116      19            56             13        11   \n",
      "1990                      77      57            54              8         9   \n",
      "1991                     167      52            18              8         6   \n",
      "1992                     180      66            51              7        12   \n",
      "1993                     175      66            39              6         6   \n",
      "\n",
      "      Valence  Length (Duration)  Acousticness  Speechiness  Popularity  \n",
      "0           7                291            76            4          47  \n",
      "1          82                249            15            3          49  \n",
      "2          35                305             0            2          57  \n",
      "4          18                214            95            3          66  \n",
      "5          26                291             0            4          37  \n",
      "...       ...                ...           ...          ...         ...  \n",
      "1989       12                321            73            3          53  \n",
      "1990       73                290             1           16          66  \n",
      "1991       42                222            39            3          48  \n",
      "1992       46                228             3            4          79  \n",
      "1993       46                274            28            3          50  \n",
      "\n",
      "[1465 rows x 10 columns]\n"
     ]
    }
   ],
   "source": [
    "# set features and target\n",
    "# X, y = df.iloc[:, :-1], df.iloc[:, -1]\n",
    "X, y = df.drop('Top Genre', axis=1), df.iloc[:, 0]\n",
    "print(X)"
   ]
  },
  {
   "cell_type": "code",
   "execution_count": 10,
   "metadata": {},
   "outputs": [
    {
     "name": "stdout",
     "output_type": "stream",
     "text": [
      "0        adult standards\n",
      "1           british soul\n",
      "2             irish rock\n",
      "4             album rock\n",
      "5       alternative rock\n",
      "              ...       \n",
      "1989          dance rock\n",
      "1990          album rock\n",
      "1991      classic uk pop\n",
      "1992                 pop\n",
      "1993           glam rock\n",
      "Name: Top Genre, Length: 1465, dtype: object\n"
     ]
    }
   ],
   "source": [
    "print(y)"
   ]
  },
  {
   "cell_type": "code",
   "execution_count": 11,
   "metadata": {},
   "outputs": [],
   "source": [
    "# # split on train and test 0.7/0.3\n",
    "X_train, X_test, y_train, y_test = X[:100], X[100:], y[:100], y[100:]"
   ]
  },
  {
   "cell_type": "code",
   "execution_count": 12,
   "metadata": {},
   "outputs": [
    {
     "name": "stdout",
     "output_type": "stream",
     "text": [
      "     Beats Per Minute (BPM)  Energy  Danceability  Loudness (dB)  Liveness  \\\n",
      "0                        76      40            34              9        11   \n",
      "1                       104      82            72              7        24   \n",
      "2                        96      60            53              6        11   \n",
      "4                        60      22            23             13        27   \n",
      "5                        96      80            22              6         9   \n",
      "..                      ...     ...           ...            ...       ...   \n",
      "119                     110      80            58              8         5   \n",
      "120                     105      76            73              5         6   \n",
      "121                      97      70            62             10         6   \n",
      "122                      90      41            63             13        31   \n",
      "123                     125      80            74              6        26   \n",
      "\n",
      "     Valence  Length (Duration)  Acousticness  Speechiness  Popularity  \n",
      "0          7                291            76            4          47  \n",
      "1         82                249            15            3          49  \n",
      "2         35                305             0            2          57  \n",
      "4         18                214            95            3          66  \n",
      "5         26                291             0            4          37  \n",
      "..       ...                ...           ...          ...         ...  \n",
      "119       42                226             0            4          49  \n",
      "120       54                228            13            3          61  \n",
      "121       73                234             1            3          68  \n",
      "122       70                291             6            3          41  \n",
      "123       89                269            18            4          70  \n",
      "\n",
      "[100 rows x 10 columns]\n"
     ]
    }
   ],
   "source": [
    "print(X_train)"
   ]
  },
  {
   "cell_type": "code",
   "execution_count": 13,
   "metadata": {},
   "outputs": [
    {
     "name": "stdout",
     "output_type": "stream",
     "text": [
      "(100, 10) (100,)\n"
     ]
    }
   ],
   "source": [
    "print(X_train.shape, y_train.shape)\n"
   ]
  },
  {
   "cell_type": "code",
   "execution_count": 14,
   "metadata": {},
   "outputs": [
    {
     "name": "stdout",
     "output_type": "stream",
     "text": [
      "(1365, 10) (1365,)\n"
     ]
    }
   ],
   "source": [
    "print(X_test.shape, y_test.shape)"
   ]
  },
  {
   "cell_type": "code",
   "execution_count": 15,
   "metadata": {},
   "outputs": [],
   "source": [
    "# train the model\n",
    "x = NaiveBayesClassifier()\n",
    "\n",
    "x.fit(X_train, y_train)"
   ]
  },
  {
   "cell_type": "code",
   "execution_count": 16,
   "metadata": {},
   "outputs": [
    {
     "name": "stderr",
     "output_type": "stream",
     "text": [
      "C:\\Users\\Luis\\Anaconda3\\envs\\tfg_chatbot\\lib\\site-packages\\ipykernel_launcher.py:34: RuntimeWarning: divide by zero encountered in true_divide\n",
      "C:\\Users\\Luis\\Anaconda3\\envs\\tfg_chatbot\\lib\\site-packages\\ipykernel_launcher.py:37: RuntimeWarning: invalid value encountered in true_divide\n",
      "C:\\Users\\Luis\\Anaconda3\\envs\\tfg_chatbot\\lib\\site-packages\\ipykernel_launcher.py:46: RuntimeWarning: divide by zero encountered in log\n",
      "C:\\Users\\Luis\\Anaconda3\\envs\\tfg_chatbot\\lib\\site-packages\\ipykernel_launcher.py:34: RuntimeWarning: invalid value encountered in true_divide\n"
     ]
    }
   ],
   "source": [
    "predictions = x.predict(X_test)"
   ]
  },
  {
   "cell_type": "code",
   "execution_count": 17,
   "metadata": {},
   "outputs": [
    {
     "data": {
      "text/plain": [
       "0.02490842490842491"
      ]
     },
     "execution_count": 17,
     "metadata": {},
     "output_type": "execute_result"
    }
   ],
   "source": [
    "x.accuracy(y_test, predictions)"
   ]
  },
  {
   "cell_type": "code",
   "execution_count": 18,
   "metadata": {},
   "outputs": [
    {
     "data": {
      "text/plain": [
       "album rock           0.284249\n",
       "adult standards      0.082051\n",
       "dutch pop            0.062271\n",
       "alternative rock     0.057143\n",
       "dance pop            0.055678\n",
       "dutch indie          0.049817\n",
       "alternative metal    0.046154\n",
       "dutch cabaret        0.035897\n",
       "modern rock          0.034432\n",
       "glam rock            0.034432\n",
       "pop                  0.034432\n",
       "classic rock         0.033700\n",
       "dance rock           0.032967\n",
       "art rock             0.027839\n",
       "permanent wave       0.026374\n",
       "british invasion     0.024908\n",
       "irish rock           0.021978\n",
       "british soul         0.020513\n",
       "europop              0.019048\n",
       "classic uk pop       0.016117\n",
       "Name: Top Genre, dtype: float64"
      ]
     },
     "execution_count": 18,
     "metadata": {},
     "output_type": "execute_result"
    }
   ],
   "source": [
    "y_test.value_counts(normalize=True)"
   ]
  },
  {
   "cell_type": "code",
   "execution_count": 19,
   "metadata": {},
   "outputs": [
    {
     "data": {
      "image/png": "[encoded data removed]",
      "text/plain": [
       "<Figure size 1080x432 with 2 Axes>"
      ]
     },
     "metadata": {},
     "output_type": "display_data"
    }
   ],
   "source": [
    "x.visualize(y_test, predictions, 'Top Genre')"
   ]
  },
  {
   "cell_type": "code",
   "execution_count": 20,
   "metadata": {},
   "outputs": [
    {
     "data": {
      "text/plain": [
       "(100, 10)"
      ]
     },
     "execution_count": 20,
     "metadata": {},
     "output_type": "execute_result"
    }
   ],
   "source": [
    "X_train.shape"
   ]
  },
  {
   "cell_type": "code",
   "execution_count": 21,
   "metadata": {},
   "outputs": [
    {
     "data": {
      "text/plain": [
       "(array(['adult standards', 'album rock', 'alternative metal',\n",
       "        'alternative rock', 'art rock', 'british invasion', 'british soul',\n",
       "        'classic rock', 'dance pop', 'dance rock', 'dutch cabaret',\n",
       "        'dutch indie', 'dutch pop', 'europop', 'glam rock', 'irish rock',\n",
       "        'modern rock', 'permanent wave'], dtype=object),\n",
       " 10,\n",
       " 100,\n",
       " 18)"
      ]
     },
     "execution_count": 21,
     "metadata": {},
     "output_type": "execute_result"
    }
   ],
   "source": [
    "x.classes, x.feature_nums, x.rows, x.count"
   ]
  },
  {
   "cell_type": "code",
   "execution_count": 22,
   "metadata": {},
   "outputs": [
    {
     "data": {
      "text/plain": [
       "array([0.11, 0.25, 0.07, 0.08, 0.02, 0.02, 0.03, 0.05, 0.07, 0.07, 0.02,\n",
       "       0.07, 0.03, 0.01, 0.02, 0.04, 0.02, 0.02])"
      ]
     },
     "execution_count": 22,
     "metadata": {},
     "output_type": "execute_result"
    }
   ],
   "source": [
    "x.calc_prior(X_train, y_train)"
   ]
  },
  {
   "cell_type": "code",
   "execution_count": 23,
   "metadata": {},
   "outputs": [
    {
     "data": {
      "text/plain": [
       "array([0.11, 0.25, 0.07, 0.08, 0.02, 0.02, 0.03, 0.05, 0.07, 0.07, 0.02,\n",
       "       0.07, 0.03, 0.01, 0.02, 0.04, 0.02, 0.02])"
      ]
     },
     "execution_count": 23,
     "metadata": {},
     "output_type": "execute_result"
    }
   ],
   "source": [
    "x.prior"
   ]
  },
  {
   "cell_type": "code",
   "execution_count": 24,
   "metadata": {},
   "outputs": [
    {
     "data": {
      "text/plain": [
       "(array([[115.54545455,  50.        ,  53.18181818,  10.27272727,\n",
       "          23.36363636,  62.54545455, 206.        ,  41.90909091,\n",
       "           4.09090909,  63.72727273],\n",
       "        [117.32      ,  62.76      ,  48.8       ,  10.24      ,\n",
       "          17.2       ,  59.72      , 273.16      ,  21.96      ,\n",
       "           4.04      ,  59.2       ],\n",
       "        [114.57142857,  80.        ,  48.14285714,   5.        ,\n",
       "          23.57142857,  40.85714286, 272.57142857,   8.14285714,\n",
       "           8.57142857,  70.14285714],\n",
       "        [116.5       ,  78.25      ,  50.375     ,   7.875     ,\n",
       "           9.125     ,  53.125     , 256.375     ,   4.75      ,\n",
       "           4.375     ,  68.        ],\n",
       "        [107.5       ,  46.5       ,  51.5       ,  13.        ,\n",
       "          20.        ,  57.5       , 335.        ,  17.5       ,\n",
       "           5.5       ,  55.        ],\n",
       "        [ 98.5       ,  33.        ,  30.5       ,   9.5       ,\n",
       "          10.        ,  53.        , 213.        ,  40.5       ,\n",
       "           3.        ,  66.5       ],\n",
       "        [110.66666667,  77.        ,  72.33333333,   6.        ,\n",
       "          12.66666667,  66.        , 270.        ,  16.33333333,\n",
       "           3.33333333,  55.33333333],\n",
       "        [113.6       ,  67.2       ,  58.2       ,   8.4       ,\n",
       "          15.2       ,  76.        , 228.2       ,  23.2       ,\n",
       "           5.4       ,  72.4       ],\n",
       "        [124.14285714,  57.28571429,  57.71428571,   8.        ,\n",
       "          12.57142857,  44.85714286, 286.28571429,  31.57142857,\n",
       "           8.        ,  66.71428571],\n",
       "        [133.85714286,  70.71428571,  57.28571429,   8.71428571,\n",
       "          35.57142857,  56.85714286, 219.71428571,  14.28571429,\n",
       "           3.71428571,  51.57142857],\n",
       "        [126.        ,  57.5       ,  44.5       ,  11.5       ,\n",
       "           9.5       ,  46.        , 261.        ,  33.5       ,\n",
       "           4.        ,  55.        ],\n",
       "        [116.42857143,  59.14285714,  46.57142857,   8.71428571,\n",
       "          17.28571429,  55.        , 227.14285714,  22.28571429,\n",
       "           4.        ,  38.71428571],\n",
       "        [137.66666667,  54.        ,  67.33333333,   8.66666667,\n",
       "          10.        ,  62.33333333, 228.33333333,  52.66666667,\n",
       "           4.66666667,  39.33333333],\n",
       "        [104.        ,  37.        ,  55.        ,  12.        ,\n",
       "          17.        ,  46.        , 286.        ,  57.        ,\n",
       "           2.        ,  49.        ],\n",
       "        [119.        ,  37.5       ,  57.5       ,  10.5       ,\n",
       "          13.5       ,  30.        , 289.        ,  56.        ,\n",
       "           3.        ,  63.        ],\n",
       "        [ 96.        ,  68.25      ,  50.        ,   7.75      ,\n",
       "          11.        ,  47.5       , 278.75      ,   2.5       ,\n",
       "           3.        ,  57.5       ],\n",
       "        [108.5       ,  69.        ,  48.5       ,   6.5       ,\n",
       "           9.5       ,  29.5       , 229.5       ,  35.        ,\n",
       "           3.5       ,  56.        ],\n",
       "        [ 97.        ,  56.        ,  48.        ,  12.5       ,\n",
       "          12.        ,  41.        , 250.        ,  45.5       ,\n",
       "           4.        ,  68.        ]]),\n",
       " array([[1.01388430e+03, 3.28000000e+02, 2.08876033e+02, 1.14710744e+01,\n",
       "         5.51867769e+02, 7.42429752e+02, 2.28818182e+03, 1.03190083e+03,\n",
       "         2.80991736e+00, 5.51074380e+01],\n",
       "        [6.90057600e+02, 3.86342400e+02, 1.50240000e+02, 1.21024000e+01,\n",
       "         1.23680000e+02, 5.94281600e+02, 8.13605440e+03, 5.25318400e+02,\n",
       "         1.63840000e+00, 1.29840000e+02],\n",
       "        [4.95102041e+02, 2.52571429e+02, 2.50122449e+02, 1.14285714e+00,\n",
       "         6.53959184e+02, 6.74979592e+02, 1.74224490e+03, 2.92979592e+02,\n",
       "         8.25306122e+01, 5.38367347e+01],\n",
       "        [1.15425000e+03, 1.12187500e+02, 3.44734375e+02, 6.10937500e+00,\n",
       "         8.35937500e+00, 4.46109375e+02, 2.47948438e+03, 4.76875000e+01,\n",
       "         9.84375000e-01, 1.65750000e+02],\n",
       "        [2.40250000e+02, 1.12225000e+03, 2.25000000e+00, 2.50000000e+01,\n",
       "         2.56000000e+02, 1.33225000e+03, 4.35600000e+03, 3.06250000e+02,\n",
       "         6.25000000e+00, 1.60000000e+01],\n",
       "        [1.12225000e+03, 0.00000000e+00, 2.50000000e-01, 2.50000000e-01,\n",
       "         1.60000000e+01, 1.96000000e+02, 2.50000000e+01, 1.26025000e+03,\n",
       "         0.00000000e+00, 6.25000000e+00],\n",
       "        [7.62222222e+01, 1.40000000e+01, 2.22222222e-01, 6.66666667e-01,\n",
       "         6.48888889e+01, 1.38666667e+02, 2.05800000e+03, 1.15555556e+01,\n",
       "         2.22222222e-01, 2.42222222e+01],\n",
       "        [3.33040000e+02, 7.00560000e+02, 5.27760000e+02, 1.06400000e+01,\n",
       "         1.35360000e+02, 6.84800000e+02, 1.56696000e+03, 8.69360000e+02,\n",
       "         1.14400000e+01, 1.50400000e+01],\n",
       "        [1.07012245e+03, 3.95346939e+02, 1.27918367e+02, 1.25714286e+01,\n",
       "         2.71020408e+01, 5.00122449e+02, 1.08870612e+04, 8.28244898e+02,\n",
       "         8.34285714e+01, 1.54204082e+02],\n",
       "        [9.84081633e+01, 5.80489796e+02, 8.56326531e+01, 1.36326531e+01,\n",
       "         4.61387755e+02, 6.58408163e+02, 3.07020408e+03, 2.45918367e+02,\n",
       "         4.89795918e-01, 1.48244898e+02],\n",
       "        [5.76000000e+02, 6.00250000e+02, 1.10250000e+02, 6.25000000e+00,\n",
       "         3.02500000e+01, 1.21000000e+02, 1.93600000e+03, 9.92250000e+02,\n",
       "         1.00000000e+00, 2.50000000e+01],\n",
       "        [1.42938776e+03, 3.21265306e+02, 3.68530612e+02, 7.34693878e+00,\n",
       "         7.76326531e+01, 5.36000000e+02, 1.85726531e+03, 4.96489796e+02,\n",
       "         6.00000000e+00, 1.01346939e+02],\n",
       "        [6.68222222e+02, 8.48666667e+02, 2.30888889e+02, 9.55555556e+00,\n",
       "         0.00000000e+00, 7.70888889e+02, 4.70888889e+02, 9.46888889e+02,\n",
       "         8.88888889e-01, 6.68888889e+01],\n",
       "        [0.00000000e+00, 0.00000000e+00, 0.00000000e+00, 0.00000000e+00,\n",
       "         0.00000000e+00, 0.00000000e+00, 0.00000000e+00, 0.00000000e+00,\n",
       "         0.00000000e+00, 0.00000000e+00],\n",
       "        [8.10000000e+01, 3.02500000e+01, 6.25000000e+00, 2.50000000e-01,\n",
       "         1.22500000e+01, 9.00000000e+00, 2.20900000e+03, 7.29000000e+02,\n",
       "         0.00000000e+00, 1.96000000e+02],\n",
       "        [1.71500000e+02, 5.61875000e+01, 6.15000000e+01, 4.18750000e+00,\n",
       "         1.80000000e+01, 7.53250000e+02, 2.94018750e+03, 1.87500000e+01,\n",
       "         5.00000000e-01, 3.27500000e+01],\n",
       "        [2.10250000e+02, 2.25000000e+02, 1.22500000e+01, 6.25000000e+00,\n",
       "         2.50000000e-01, 2.72250000e+02, 2.10250000e+02, 1.22500000e+03,\n",
       "         2.50000000e-01, 4.00000000e+00],\n",
       "        [2.25000000e+02, 1.29600000e+03, 2.56000000e+02, 7.22500000e+01,\n",
       "         9.00000000e+00, 1.44000000e+02, 1.96000000e+02, 2.07025000e+03,\n",
       "         0.00000000e+00, 3.60000000e+01]]))"
      ]
     },
     "execution_count": 24,
     "metadata": {},
     "output_type": "execute_result"
    }
   ],
   "source": [
    "x.calc_statistics(X_train, y_train)"
   ]
  },
  {
   "cell_type": "code",
   "execution_count": 25,
   "metadata": {},
   "outputs": [
    {
     "data": {
      "text/plain": [
       "array([[115.54545455,  50.        ,  53.18181818,  10.27272727,\n",
       "         23.36363636,  62.54545455, 206.        ,  41.90909091,\n",
       "          4.09090909,  63.72727273],\n",
       "       [117.32      ,  62.76      ,  48.8       ,  10.24      ,\n",
       "         17.2       ,  59.72      , 273.16      ,  21.96      ,\n",
       "          4.04      ,  59.2       ],\n",
       "       [114.57142857,  80.        ,  48.14285714,   5.        ,\n",
       "         23.57142857,  40.85714286, 272.57142857,   8.14285714,\n",
       "          8.57142857,  70.14285714],\n",
       "       [116.5       ,  78.25      ,  50.375     ,   7.875     ,\n",
       "          9.125     ,  53.125     , 256.375     ,   4.75      ,\n",
       "          4.375     ,  68.        ],\n",
       "       [107.5       ,  46.5       ,  51.5       ,  13.        ,\n",
       "         20.        ,  57.5       , 335.        ,  17.5       ,\n",
       "          5.5       ,  55.        ],\n",
       "       [ 98.5       ,  33.        ,  30.5       ,   9.5       ,\n",
       "         10.        ,  53.        , 213.        ,  40.5       ,\n",
       "          3.        ,  66.5       ],\n",
       "       [110.66666667,  77.        ,  72.33333333,   6.        ,\n",
       "         12.66666667,  66.        , 270.        ,  16.33333333,\n",
       "          3.33333333,  55.33333333],\n",
       "       [113.6       ,  67.2       ,  58.2       ,   8.4       ,\n",
       "         15.2       ,  76.        , 228.2       ,  23.2       ,\n",
       "          5.4       ,  72.4       ],\n",
       "       [124.14285714,  57.28571429,  57.71428571,   8.        ,\n",
       "         12.57142857,  44.85714286, 286.28571429,  31.57142857,\n",
       "          8.        ,  66.71428571],\n",
       "       [133.85714286,  70.71428571,  57.28571429,   8.71428571,\n",
       "         35.57142857,  56.85714286, 219.71428571,  14.28571429,\n",
       "          3.71428571,  51.57142857],\n",
       "       [126.        ,  57.5       ,  44.5       ,  11.5       ,\n",
       "          9.5       ,  46.        , 261.        ,  33.5       ,\n",
       "          4.        ,  55.        ],\n",
       "       [116.42857143,  59.14285714,  46.57142857,   8.71428571,\n",
       "         17.28571429,  55.        , 227.14285714,  22.28571429,\n",
       "          4.        ,  38.71428571],\n",
       "       [137.66666667,  54.        ,  67.33333333,   8.66666667,\n",
       "         10.        ,  62.33333333, 228.33333333,  52.66666667,\n",
       "          4.66666667,  39.33333333],\n",
       "       [104.        ,  37.        ,  55.        ,  12.        ,\n",
       "         17.        ,  46.        , 286.        ,  57.        ,\n",
       "          2.        ,  49.        ],\n",
       "       [119.        ,  37.5       ,  57.5       ,  10.5       ,\n",
       "         13.5       ,  30.        , 289.        ,  56.        ,\n",
       "          3.        ,  63.        ],\n",
       "       [ 96.        ,  68.25      ,  50.        ,   7.75      ,\n",
       "         11.        ,  47.5       , 278.75      ,   2.5       ,\n",
       "          3.        ,  57.5       ],\n",
       "       [108.5       ,  69.        ,  48.5       ,   6.5       ,\n",
       "          9.5       ,  29.5       , 229.5       ,  35.        ,\n",
       "          3.5       ,  56.        ],\n",
       "       [ 97.        ,  56.        ,  48.        ,  12.5       ,\n",
       "         12.        ,  41.        , 250.        ,  45.5       ,\n",
       "          4.        ,  68.        ]])"
      ]
     },
     "execution_count": 25,
     "metadata": {},
     "output_type": "execute_result"
    }
   ],
   "source": [
    "x.mean"
   ]
  },
  {
   "cell_type": "code",
   "execution_count": 26,
   "metadata": {},
   "outputs": [
    {
     "data": {
      "text/plain": [
       "array([[1.01388430e+03, 3.28000000e+02, 2.08876033e+02, 1.14710744e+01,\n",
       "        5.51867769e+02, 7.42429752e+02, 2.28818182e+03, 1.03190083e+03,\n",
       "        2.80991736e+00, 5.51074380e+01],\n",
       "       [6.90057600e+02, 3.86342400e+02, 1.50240000e+02, 1.21024000e+01,\n",
       "        1.23680000e+02, 5.94281600e+02, 8.13605440e+03, 5.25318400e+02,\n",
       "        1.63840000e+00, 1.29840000e+02],\n",
       "       [4.95102041e+02, 2.52571429e+02, 2.50122449e+02, 1.14285714e+00,\n",
       "        6.53959184e+02, 6.74979592e+02, 1.74224490e+03, 2.92979592e+02,\n",
       "        8.25306122e+01, 5.38367347e+01],\n",
       "       [1.15425000e+03, 1.12187500e+02, 3.44734375e+02, 6.10937500e+00,\n",
       "        8.35937500e+00, 4.46109375e+02, 2.47948438e+03, 4.76875000e+01,\n",
       "        9.84375000e-01, 1.65750000e+02],\n",
       "       [2.40250000e+02, 1.12225000e+03, 2.25000000e+00, 2.50000000e+01,\n",
       "        2.56000000e+02, 1.33225000e+03, 4.35600000e+03, 3.06250000e+02,\n",
       "        6.25000000e+00, 1.60000000e+01],\n",
       "       [1.12225000e+03, 0.00000000e+00, 2.50000000e-01, 2.50000000e-01,\n",
       "        1.60000000e+01, 1.96000000e+02, 2.50000000e+01, 1.26025000e+03,\n",
       "        0.00000000e+00, 6.25000000e+00],\n",
       "       [7.62222222e+01, 1.40000000e+01, 2.22222222e-01, 6.66666667e-01,\n",
       "        6.48888889e+01, 1.38666667e+02, 2.05800000e+03, 1.15555556e+01,\n",
       "        2.22222222e-01, 2.42222222e+01],\n",
       "       [3.33040000e+02, 7.00560000e+02, 5.27760000e+02, 1.06400000e+01,\n",
       "        1.35360000e+02, 6.84800000e+02, 1.56696000e+03, 8.69360000e+02,\n",
       "        1.14400000e+01, 1.50400000e+01],\n",
       "       [1.07012245e+03, 3.95346939e+02, 1.27918367e+02, 1.25714286e+01,\n",
       "        2.71020408e+01, 5.00122449e+02, 1.08870612e+04, 8.28244898e+02,\n",
       "        8.34285714e+01, 1.54204082e+02],\n",
       "       [9.84081633e+01, 5.80489796e+02, 8.56326531e+01, 1.36326531e+01,\n",
       "        4.61387755e+02, 6.58408163e+02, 3.07020408e+03, 2.45918367e+02,\n",
       "        4.89795918e-01, 1.48244898e+02],\n",
       "       [5.76000000e+02, 6.00250000e+02, 1.10250000e+02, 6.25000000e+00,\n",
       "        3.02500000e+01, 1.21000000e+02, 1.93600000e+03, 9.92250000e+02,\n",
       "        1.00000000e+00, 2.50000000e+01],\n",
       "       [1.42938776e+03, 3.21265306e+02, 3.68530612e+02, 7.34693878e+00,\n",
       "        7.76326531e+01, 5.36000000e+02, 1.85726531e+03, 4.96489796e+02,\n",
       "        6.00000000e+00, 1.01346939e+02],\n",
       "       [6.68222222e+02, 8.48666667e+02, 2.30888889e+02, 9.55555556e+00,\n",
       "        0.00000000e+00, 7.70888889e+02, 4.70888889e+02, 9.46888889e+02,\n",
       "        8.88888889e-01, 6.68888889e+01],\n",
       "       [0.00000000e+00, 0.00000000e+00, 0.00000000e+00, 0.00000000e+00,\n",
       "        0.00000000e+00, 0.00000000e+00, 0.00000000e+00, 0.00000000e+00,\n",
       "        0.00000000e+00, 0.00000000e+00],\n",
       "       [8.10000000e+01, 3.02500000e+01, 6.25000000e+00, 2.50000000e-01,\n",
       "        1.22500000e+01, 9.00000000e+00, 2.20900000e+03, 7.29000000e+02,\n",
       "        0.00000000e+00, 1.96000000e+02],\n",
       "       [1.71500000e+02, 5.61875000e+01, 6.15000000e+01, 4.18750000e+00,\n",
       "        1.80000000e+01, 7.53250000e+02, 2.94018750e+03, 1.87500000e+01,\n",
       "        5.00000000e-01, 3.27500000e+01],\n",
       "       [2.10250000e+02, 2.25000000e+02, 1.22500000e+01, 6.25000000e+00,\n",
       "        2.50000000e-01, 2.72250000e+02, 2.10250000e+02, 1.22500000e+03,\n",
       "        2.50000000e-01, 4.00000000e+00],\n",
       "       [2.25000000e+02, 1.29600000e+03, 2.56000000e+02, 7.22500000e+01,\n",
       "        9.00000000e+00, 1.44000000e+02, 1.96000000e+02, 2.07025000e+03,\n",
       "        0.00000000e+00, 3.60000000e+01]])"
      ]
     },
     "execution_count": 26,
     "metadata": {},
     "output_type": "execute_result"
    }
   ],
   "source": [
    "x.var"
   ]
  },
  {
   "cell_type": "code",
   "execution_count": 27,
   "metadata": {},
   "outputs": [
    {
     "data": {
      "text/html": [
       "<div>\n",
       "<style scoped>\n",
       "    .dataframe tbody tr th:only-of-type {\n",
       "        vertical-align: middle;\n",
       "    }\n",
       "\n",
       "    .dataframe tbody tr th {\n",
       "        vertical-align: top;\n",
       "    }\n",
       "\n",
       "    .dataframe thead th {\n",
       "        text-align: right;\n",
       "    }\n",
       "</style>\n",
       "<table border=\"1\" class=\"dataframe\">\n",
       "  <thead>\n",
       "    <tr style=\"text-align: right;\">\n",
       "      <th></th>\n",
       "      <th>Beats Per Minute (BPM)</th>\n",
       "      <th>Energy</th>\n",
       "      <th>Danceability</th>\n",
       "      <th>Loudness (dB)</th>\n",
       "      <th>Liveness</th>\n",
       "      <th>Valence</th>\n",
       "      <th>Length (Duration)</th>\n",
       "      <th>Acousticness</th>\n",
       "      <th>Speechiness</th>\n",
       "      <th>Popularity</th>\n",
       "    </tr>\n",
       "  </thead>\n",
       "  <tbody>\n",
       "    <tr>\n",
       "      <th>0</th>\n",
       "      <td>76</td>\n",
       "      <td>40</td>\n",
       "      <td>34</td>\n",
       "      <td>9</td>\n",
       "      <td>11</td>\n",
       "      <td>7</td>\n",
       "      <td>291</td>\n",
       "      <td>76</td>\n",
       "      <td>4</td>\n",
       "      <td>47</td>\n",
       "    </tr>\n",
       "    <tr>\n",
       "      <th>1</th>\n",
       "      <td>104</td>\n",
       "      <td>82</td>\n",
       "      <td>72</td>\n",
       "      <td>7</td>\n",
       "      <td>24</td>\n",
       "      <td>82</td>\n",
       "      <td>249</td>\n",
       "      <td>15</td>\n",
       "      <td>3</td>\n",
       "      <td>49</td>\n",
       "    </tr>\n",
       "    <tr>\n",
       "      <th>2</th>\n",
       "      <td>96</td>\n",
       "      <td>60</td>\n",
       "      <td>53</td>\n",
       "      <td>6</td>\n",
       "      <td>11</td>\n",
       "      <td>35</td>\n",
       "      <td>305</td>\n",
       "      <td>0</td>\n",
       "      <td>2</td>\n",
       "      <td>57</td>\n",
       "    </tr>\n",
       "    <tr>\n",
       "      <th>4</th>\n",
       "      <td>60</td>\n",
       "      <td>22</td>\n",
       "      <td>23</td>\n",
       "      <td>13</td>\n",
       "      <td>27</td>\n",
       "      <td>18</td>\n",
       "      <td>214</td>\n",
       "      <td>95</td>\n",
       "      <td>3</td>\n",
       "      <td>66</td>\n",
       "    </tr>\n",
       "    <tr>\n",
       "      <th>5</th>\n",
       "      <td>96</td>\n",
       "      <td>80</td>\n",
       "      <td>22</td>\n",
       "      <td>6</td>\n",
       "      <td>9</td>\n",
       "      <td>26</td>\n",
       "      <td>291</td>\n",
       "      <td>0</td>\n",
       "      <td>4</td>\n",
       "      <td>37</td>\n",
       "    </tr>\n",
       "    <tr>\n",
       "      <th>...</th>\n",
       "      <td>...</td>\n",
       "      <td>...</td>\n",
       "      <td>...</td>\n",
       "      <td>...</td>\n",
       "      <td>...</td>\n",
       "      <td>...</td>\n",
       "      <td>...</td>\n",
       "      <td>...</td>\n",
       "      <td>...</td>\n",
       "      <td>...</td>\n",
       "    </tr>\n",
       "    <tr>\n",
       "      <th>119</th>\n",
       "      <td>110</td>\n",
       "      <td>80</td>\n",
       "      <td>58</td>\n",
       "      <td>8</td>\n",
       "      <td>5</td>\n",
       "      <td>42</td>\n",
       "      <td>226</td>\n",
       "      <td>0</td>\n",
       "      <td>4</td>\n",
       "      <td>49</td>\n",
       "    </tr>\n",
       "    <tr>\n",
       "      <th>120</th>\n",
       "      <td>105</td>\n",
       "      <td>76</td>\n",
       "      <td>73</td>\n",
       "      <td>5</td>\n",
       "      <td>6</td>\n",
       "      <td>54</td>\n",
       "      <td>228</td>\n",
       "      <td>13</td>\n",
       "      <td>3</td>\n",
       "      <td>61</td>\n",
       "    </tr>\n",
       "    <tr>\n",
       "      <th>121</th>\n",
       "      <td>97</td>\n",
       "      <td>70</td>\n",
       "      <td>62</td>\n",
       "      <td>10</td>\n",
       "      <td>6</td>\n",
       "      <td>73</td>\n",
       "      <td>234</td>\n",
       "      <td>1</td>\n",
       "      <td>3</td>\n",
       "      <td>68</td>\n",
       "    </tr>\n",
       "    <tr>\n",
       "      <th>122</th>\n",
       "      <td>90</td>\n",
       "      <td>41</td>\n",
       "      <td>63</td>\n",
       "      <td>13</td>\n",
       "      <td>31</td>\n",
       "      <td>70</td>\n",
       "      <td>291</td>\n",
       "      <td>6</td>\n",
       "      <td>3</td>\n",
       "      <td>41</td>\n",
       "    </tr>\n",
       "    <tr>\n",
       "      <th>123</th>\n",
       "      <td>125</td>\n",
       "      <td>80</td>\n",
       "      <td>74</td>\n",
       "      <td>6</td>\n",
       "      <td>26</td>\n",
       "      <td>89</td>\n",
       "      <td>269</td>\n",
       "      <td>18</td>\n",
       "      <td>4</td>\n",
       "      <td>70</td>\n",
       "    </tr>\n",
       "  </tbody>\n",
       "</table>\n",
       "<p>100 rows × 10 columns</p>\n",
       "</div>"
      ],
      "text/plain": [
       "     Beats Per Minute (BPM)  Energy  Danceability  Loudness (dB)  Liveness  \\\n",
       "0                        76      40            34              9        11   \n",
       "1                       104      82            72              7        24   \n",
       "2                        96      60            53              6        11   \n",
       "4                        60      22            23             13        27   \n",
       "5                        96      80            22              6         9   \n",
       "..                      ...     ...           ...            ...       ...   \n",
       "119                     110      80            58              8         5   \n",
       "120                     105      76            73              5         6   \n",
       "121                      97      70            62             10         6   \n",
       "122                      90      41            63             13        31   \n",
       "123                     125      80            74              6        26   \n",
       "\n",
       "     Valence  Length (Duration)  Acousticness  Speechiness  Popularity  \n",
       "0          7                291            76            4          47  \n",
       "1         82                249            15            3          49  \n",
       "2         35                305             0            2          57  \n",
       "4         18                214            95            3          66  \n",
       "5         26                291             0            4          37  \n",
       "..       ...                ...           ...          ...         ...  \n",
       "119       42                226             0            4          49  \n",
       "120       54                228            13            3          61  \n",
       "121       73                234             1            3          68  \n",
       "122       70                291             6            3          41  \n",
       "123       89                269            18            4          70  \n",
       "\n",
       "[100 rows x 10 columns]"
      ]
     },
     "execution_count": 27,
     "metadata": {},
     "output_type": "execute_result"
    }
   ],
   "source": [
    "X_train"
   ]
  },
  {
   "cell_type": "code",
   "execution_count": 28,
   "metadata": {},
   "outputs": [],
   "source": [
    "# train the model\n",
    "x = NaiveBayesClassifier()\n",
    "\n",
    "\n",
    "x.fit(X_train, y_train)"
   ]
  },
  {
   "cell_type": "code",
   "execution_count": 29,
   "metadata": {},
   "outputs": [
    {
     "name": "stderr",
     "output_type": "stream",
     "text": [
      "C:\\Users\\Luis\\Anaconda3\\envs\\tfg_chatbot\\lib\\site-packages\\ipykernel_launcher.py:34: RuntimeWarning: divide by zero encountered in true_divide\n",
      "C:\\Users\\Luis\\Anaconda3\\envs\\tfg_chatbot\\lib\\site-packages\\ipykernel_launcher.py:37: RuntimeWarning: invalid value encountered in true_divide\n",
      "C:\\Users\\Luis\\Anaconda3\\envs\\tfg_chatbot\\lib\\site-packages\\ipykernel_launcher.py:46: RuntimeWarning: divide by zero encountered in log\n",
      "C:\\Users\\Luis\\Anaconda3\\envs\\tfg_chatbot\\lib\\site-packages\\ipykernel_launcher.py:34: RuntimeWarning: invalid value encountered in true_divide\n"
     ]
    }
   ],
   "source": [
    "predictions = x.predict(X_test)"
   ]
  },
  {
   "cell_type": "code",
   "execution_count": 30,
   "metadata": {},
   "outputs": [
    {
     "data": {
      "text/plain": [
       "0.02490842490842491"
      ]
     },
     "execution_count": 30,
     "metadata": {},
     "output_type": "execute_result"
    }
   ],
   "source": [
    "x.accuracy(y_test, predictions)"
   ]
  },
  {
   "cell_type": "code",
   "execution_count": 31,
   "metadata": {},
   "outputs": [
    {
     "data": {
      "text/plain": [
       "album rock           0.284249\n",
       "adult standards      0.082051\n",
       "dutch pop            0.062271\n",
       "alternative rock     0.057143\n",
       "dance pop            0.055678\n",
       "dutch indie          0.049817\n",
       "alternative metal    0.046154\n",
       "dutch cabaret        0.035897\n",
       "modern rock          0.034432\n",
       "glam rock            0.034432\n",
       "pop                  0.034432\n",
       "classic rock         0.033700\n",
       "dance rock           0.032967\n",
       "art rock             0.027839\n",
       "permanent wave       0.026374\n",
       "british invasion     0.024908\n",
       "irish rock           0.021978\n",
       "british soul         0.020513\n",
       "europop              0.019048\n",
       "classic uk pop       0.016117\n",
       "Name: Top Genre, dtype: float64"
      ]
     },
     "execution_count": 31,
     "metadata": {},
     "output_type": "execute_result"
    }
   ],
   "source": [
    "y_test.value_counts(normalize=True)"
   ]
  }
 ],
 "metadata": {
  "kernelspec": {
   "display_name": "Python 3",
   "language": "python",
   "name": "python3"
  },
  "language_info": {
   "codemirror_mode": {
    "name": "ipython",
    "version": 3
   },
   "file_extension": ".py",
   "mimetype": "text/x-python",
   "name": "python",
   "nbconvert_exporter": "python",
   "pygments_lexer": "ipython3",
   "version": "3.6.10"
  }
 },
 "nbformat": 4,
 "nbformat_minor": 4
}
