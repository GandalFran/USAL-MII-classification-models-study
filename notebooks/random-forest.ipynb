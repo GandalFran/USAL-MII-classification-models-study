{
 "cells": [
  {
   "cell_type": "code",
   "execution_count": 1,
   "metadata": {},
   "outputs": [],
   "source": [
    "import numpy as np\n",
    "import pandas as pd\n",
    "import seaborn as sns\n",
    "import matplotlib.pyplot as plt\n",
    "\n",
    "from sklearn import metrics\n",
    "from sklearn.tree import export_graphviz\n",
    "from sklearn.ensemble import RandomForestClassifier\n",
    "from sklearn.model_selection import train_test_split, cross_val_score, cross_val_predict\n",
    "\n",
    "from sklearn.metrics import  classification_report, confusion_matrix, accuracy_score, precision_score, recall_score, \\\n",
    "r2_score, mean_squared_error, mean_absolute_error, median_absolute_error, mean_squared_log_error, explained_variance_score\n",
    "\n",
    "import warnings\n",
    "warnings.filterwarnings('ignore')\n",
    "\n",
    "%matplotlib inline"
   ]
  },
  {
   "cell_type": "markdown",
   "metadata": {},
   "source": [
    "# Read and clean dataset"
   ]
  },
  {
   "cell_type": "code",
   "execution_count": 2,
   "metadata": {},
   "outputs": [],
   "source": [
    "# read\n",
    "df = pd.read_csv(\"spotify-dataset.csv\")\n",
    "\n",
    "# lower the attribute\n",
    "df['Top Genre'] = (df[\"Top Genre\"].str.strip()).str.lower()\n",
    "\n",
    "# drop genres that have less than 20 instances\n",
    "to_remove = [genre for genre in df['Top Genre'].unique() if df['Top Genre'].value_counts()[genre] < 20] \n",
    "for r in to_remove:\n",
    "    df = df[df['Top Genre'] != r]\n",
    "\n",
    "# convert negative values to positive, because the percenption of sound is relative (-N dB == N dB in human ear)\n",
    "df['Loudness (dB)'] = df['Loudness (dB)'].abs()\n",
    "\n",
    "# convert duration to int\n",
    "df['Length (Duration)'] = pd.to_numeric(df['Length (Duration)'].str.replace(',',''))\n",
    "\n",
    "# drop not used columns\n",
    "df.drop(columns = ['Index', 'Title', 'Artist', 'Year'], inplace=True)\n",
    "\n",
    "# encode genres\n",
    "genres = list(df['Top Genre'].unique())\n",
    "df['Top Genre'] = df['Top Genre'].apply(lambda x: genres.index(x))"
   ]
  },
  {
   "cell_type": "code",
   "execution_count": 3,
   "metadata": {},
   "outputs": [
    {
     "data": {
      "text/html": [
       "<div>\n",
       "<style scoped>\n",
       "    .dataframe tbody tr th:only-of-type {\n",
       "        vertical-align: middle;\n",
       "    }\n",
       "\n",
       "    .dataframe tbody tr th {\n",
       "        vertical-align: top;\n",
       "    }\n",
       "\n",
       "    .dataframe thead th {\n",
       "        text-align: right;\n",
       "    }\n",
       "</style>\n",
       "<table border=\"1\" class=\"dataframe\">\n",
       "  <thead>\n",
       "    <tr style=\"text-align: right;\">\n",
       "      <th></th>\n",
       "      <th>Top Genre</th>\n",
       "      <th>Beats Per Minute (BPM)</th>\n",
       "      <th>Energy</th>\n",
       "      <th>Danceability</th>\n",
       "      <th>Loudness (dB)</th>\n",
       "      <th>Liveness</th>\n",
       "      <th>Valence</th>\n",
       "      <th>Length (Duration)</th>\n",
       "      <th>Acousticness</th>\n",
       "      <th>Speechiness</th>\n",
       "      <th>Popularity</th>\n",
       "    </tr>\n",
       "  </thead>\n",
       "  <tbody>\n",
       "    <tr>\n",
       "      <th>0</th>\n",
       "      <td>0</td>\n",
       "      <td>157</td>\n",
       "      <td>30</td>\n",
       "      <td>53</td>\n",
       "      <td>14</td>\n",
       "      <td>11</td>\n",
       "      <td>68</td>\n",
       "      <td>201</td>\n",
       "      <td>94</td>\n",
       "      <td>3</td>\n",
       "      <td>71</td>\n",
       "    </tr>\n",
       "    <tr>\n",
       "      <th>1</th>\n",
       "      <td>1</td>\n",
       "      <td>135</td>\n",
       "      <td>79</td>\n",
       "      <td>50</td>\n",
       "      <td>11</td>\n",
       "      <td>17</td>\n",
       "      <td>81</td>\n",
       "      <td>207</td>\n",
       "      <td>17</td>\n",
       "      <td>7</td>\n",
       "      <td>39</td>\n",
       "    </tr>\n",
       "    <tr>\n",
       "      <th>3</th>\n",
       "      <td>2</td>\n",
       "      <td>173</td>\n",
       "      <td>96</td>\n",
       "      <td>43</td>\n",
       "      <td>4</td>\n",
       "      <td>3</td>\n",
       "      <td>37</td>\n",
       "      <td>269</td>\n",
       "      <td>0</td>\n",
       "      <td>4</td>\n",
       "      <td>76</td>\n",
       "    </tr>\n",
       "    <tr>\n",
       "      <th>4</th>\n",
       "      <td>3</td>\n",
       "      <td>106</td>\n",
       "      <td>82</td>\n",
       "      <td>58</td>\n",
       "      <td>5</td>\n",
       "      <td>10</td>\n",
       "      <td>87</td>\n",
       "      <td>256</td>\n",
       "      <td>1</td>\n",
       "      <td>3</td>\n",
       "      <td>59</td>\n",
       "    </tr>\n",
       "    <tr>\n",
       "      <th>6</th>\n",
       "      <td>4</td>\n",
       "      <td>102</td>\n",
       "      <td>71</td>\n",
       "      <td>71</td>\n",
       "      <td>6</td>\n",
       "      <td>13</td>\n",
       "      <td>54</td>\n",
       "      <td>257</td>\n",
       "      <td>6</td>\n",
       "      <td>3</td>\n",
       "      <td>74</td>\n",
       "    </tr>\n",
       "    <tr>\n",
       "      <th>...</th>\n",
       "      <td>...</td>\n",
       "      <td>...</td>\n",
       "      <td>...</td>\n",
       "      <td>...</td>\n",
       "      <td>...</td>\n",
       "      <td>...</td>\n",
       "      <td>...</td>\n",
       "      <td>...</td>\n",
       "      <td>...</td>\n",
       "      <td>...</td>\n",
       "      <td>...</td>\n",
       "    </tr>\n",
       "    <tr>\n",
       "      <th>1987</th>\n",
       "      <td>0</td>\n",
       "      <td>119</td>\n",
       "      <td>24</td>\n",
       "      <td>75</td>\n",
       "      <td>15</td>\n",
       "      <td>9</td>\n",
       "      <td>43</td>\n",
       "      <td>216</td>\n",
       "      <td>83</td>\n",
       "      <td>12</td>\n",
       "      <td>68</td>\n",
       "    </tr>\n",
       "    <tr>\n",
       "      <th>1988</th>\n",
       "      <td>0</td>\n",
       "      <td>168</td>\n",
       "      <td>7</td>\n",
       "      <td>17</td>\n",
       "      <td>21</td>\n",
       "      <td>14</td>\n",
       "      <td>10</td>\n",
       "      <td>298</td>\n",
       "      <td>92</td>\n",
       "      <td>3</td>\n",
       "      <td>66</td>\n",
       "    </tr>\n",
       "    <tr>\n",
       "      <th>1989</th>\n",
       "      <td>0</td>\n",
       "      <td>94</td>\n",
       "      <td>21</td>\n",
       "      <td>70</td>\n",
       "      <td>12</td>\n",
       "      <td>11</td>\n",
       "      <td>72</td>\n",
       "      <td>128</td>\n",
       "      <td>84</td>\n",
       "      <td>7</td>\n",
       "      <td>63</td>\n",
       "    </tr>\n",
       "    <tr>\n",
       "      <th>1990</th>\n",
       "      <td>0</td>\n",
       "      <td>175</td>\n",
       "      <td>76</td>\n",
       "      <td>36</td>\n",
       "      <td>8</td>\n",
       "      <td>76</td>\n",
       "      <td>95</td>\n",
       "      <td>136</td>\n",
       "      <td>73</td>\n",
       "      <td>6</td>\n",
       "      <td>69</td>\n",
       "    </tr>\n",
       "    <tr>\n",
       "      <th>1993</th>\n",
       "      <td>0</td>\n",
       "      <td>133</td>\n",
       "      <td>50</td>\n",
       "      <td>49</td>\n",
       "      <td>10</td>\n",
       "      <td>16</td>\n",
       "      <td>83</td>\n",
       "      <td>148</td>\n",
       "      <td>74</td>\n",
       "      <td>3</td>\n",
       "      <td>56</td>\n",
       "    </tr>\n",
       "  </tbody>\n",
       "</table>\n",
       "<p>1465 rows × 11 columns</p>\n",
       "</div>"
      ],
      "text/plain": [
       "      Top Genre  Beats Per Minute (BPM)  Energy  Danceability  Loudness (dB)  \\\n",
       "0             0                     157      30            53             14   \n",
       "1             1                     135      79            50             11   \n",
       "3             2                     173      96            43              4   \n",
       "4             3                     106      82            58              5   \n",
       "6             4                     102      71            71              6   \n",
       "...         ...                     ...     ...           ...            ...   \n",
       "1987          0                     119      24            75             15   \n",
       "1988          0                     168       7            17             21   \n",
       "1989          0                      94      21            70             12   \n",
       "1990          0                     175      76            36              8   \n",
       "1993          0                     133      50            49             10   \n",
       "\n",
       "      Liveness  Valence  Length (Duration)  Acousticness  Speechiness  \\\n",
       "0           11       68                201            94            3   \n",
       "1           17       81                207            17            7   \n",
       "3            3       37                269             0            4   \n",
       "4           10       87                256             1            3   \n",
       "6           13       54                257             6            3   \n",
       "...        ...      ...                ...           ...          ...   \n",
       "1987         9       43                216            83           12   \n",
       "1988        14       10                298            92            3   \n",
       "1989        11       72                128            84            7   \n",
       "1990        76       95                136            73            6   \n",
       "1993        16       83                148            74            3   \n",
       "\n",
       "      Popularity  \n",
       "0             71  \n",
       "1             39  \n",
       "3             76  \n",
       "4             59  \n",
       "6             74  \n",
       "...          ...  \n",
       "1987          68  \n",
       "1988          66  \n",
       "1989          63  \n",
       "1990          69  \n",
       "1993          56  \n",
       "\n",
       "[1465 rows x 11 columns]"
      ]
     },
     "execution_count": 3,
     "metadata": {},
     "output_type": "execute_result"
    }
   ],
   "source": [
    "df"
   ]
  },
  {
   "cell_type": "markdown",
   "metadata": {},
   "source": [
    "# Perform analysis\n",
    "\n",
    "The analisis performed, conssits in a classification with random forest, that ...."
   ]
  },
  {
   "cell_type": "markdown",
   "metadata": {},
   "source": [
    "### Prepare data"
   ]
  },
  {
   "cell_type": "code",
   "execution_count": 4,
   "metadata": {},
   "outputs": [],
   "source": [
    "targets = ['Top Genre']\n",
    "features = ['Beats Per Minute (BPM)', 'Energy', 'Danceability', 'Loudness (dB)', 'Liveness', 'Valence', 'Length (Duration)', 'Acousticness', 'Speechiness', 'Popularity']\n",
    "X = df[features]\n",
    "Y = df[targets]\n",
    "train_X, val_X, train_y, val_y = train_test_split(X, Y, random_state=1)"
   ]
  },
  {
   "cell_type": "markdown",
   "metadata": {},
   "source": [
    "### Train model"
   ]
  },
  {
   "cell_type": "code",
   "execution_count": 5,
   "metadata": {},
   "outputs": [
    {
     "data": {
      "text/plain": [
       "RandomForestClassifier(random_state=1)"
      ]
     },
     "execution_count": 5,
     "metadata": {},
     "output_type": "execute_result"
    }
   ],
   "source": [
    "model = RandomForestClassifier(random_state=1)\n",
    "model.fit(train_X, train_y)"
   ]
  },
  {
   "cell_type": "markdown",
   "metadata": {},
   "source": [
    "### Perform validation predictions"
   ]
  },
  {
   "cell_type": "code",
   "execution_count": 6,
   "metadata": {},
   "outputs": [],
   "source": [
    "validation_predictions = model.predict(val_X)"
   ]
  },
  {
   "cell_type": "markdown",
   "metadata": {},
   "source": [
    "# Plot model statistics"
   ]
  },
  {
   "cell_type": "code",
   "execution_count": 7,
   "metadata": {},
   "outputs": [
    {
     "name": "stdout",
     "output_type": "stream",
     "text": [
      "r2:                     -0.6434\n",
      "MSE:                    55.8883\n",
      "RMSE:                   7.4758\n",
      "MAE:                    5.049\n",
      "explained_variance:     -0.3778\n",
      "mean_squared_log_error: 1.5328\n"
     ]
    }
   ],
   "source": [
    "r2 = r2_score(val_y, validation_predictions)\n",
    "mse = mean_squared_error(val_y, validation_predictions) \n",
    "mean_absolute_error = mean_absolute_error(val_y, validation_predictions) \n",
    "explained_variance = explained_variance_score(val_y, validation_predictions)\n",
    "median_absolute_error = median_absolute_error(val_y, validation_predictions)\n",
    "mean_squared_log_error = mean_squared_log_error(val_y, validation_predictions)\n",
    "\n",
    "print(f'r2:                     {round(r2,4)}')\n",
    "print(f'MSE:                    {round(mse,4)}')\n",
    "print(f'RMSE:                   {round(np.sqrt(mse),4)}')\n",
    "print(f'MAE:                    {round(mean_absolute_error,4)}')\n",
    "print(f'explained_variance:     {round(explained_variance,4)}')    \n",
    "print(f'mean_squared_log_error: {round(mean_squared_log_error,4)}')"
   ]
  },
  {
   "cell_type": "code",
   "execution_count": 8,
   "metadata": {},
   "outputs": [
    {
     "name": "stdout",
     "output_type": "stream",
     "text": [
      "cross validation mean 0.3124437030859049\n",
      "cross validation std  0.03363924528459963\n"
     ]
    }
   ],
   "source": [
    "cross_val_score_ = cross_val_score(model, train_X, train_y, cv = 10, scoring = 'accuracy')\n",
    "print(f'cross validation mean {cross_val_score_.mean()}')\n",
    "print(f'cross validation std  {cross_val_score_.std()}')"
   ]
  },
  {
   "cell_type": "code",
   "execution_count": 9,
   "metadata": {},
   "outputs": [
    {
     "name": "stdout",
     "output_type": "stream",
     "text": [
      "Recall Score:     0.3123861566484517\n",
      "Precision Score:  0.3123861566484517\n",
      "F1 Score:         0.3123861566484517\n"
     ]
    }
   ],
   "source": [
    "y_randforest = cross_val_predict(model, train_X, train_y, cv = 10)\n",
    "recall_score_ = recall_score(train_y, y_randforest, average = \"micro\")\n",
    "precission_score_ = precision_score(train_y, y_randforest, average = \"micro\")\n",
    "f1_score = 2 * (precission_score_ * recall_score_) / (precission_score_ + recall_score_)\n",
    "print(f'Recall Score:     {recall_score_}')\n",
    "print(f'Precision Score:  {precission_score_}')\n",
    "print(f'F1 Score:         {f1_score}')"
   ]
  }
 ],
 "metadata": {
  "kernelspec": {
   "display_name": "Python 3",
   "language": "python",
   "name": "python3"
  },
  "language_info": {
   "codemirror_mode": {
    "name": "ipython",
    "version": 3
   },
   "file_extension": ".py",
   "mimetype": "text/x-python",
   "name": "python",
   "nbconvert_exporter": "python",
   "pygments_lexer": "ipython3",
   "version": "3.7.3"
  }
 },
 "nbformat": 4,
 "nbformat_minor": 4
}
